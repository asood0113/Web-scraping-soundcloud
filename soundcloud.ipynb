{
 "metadata": {
  "language_info": {
   "codemirror_mode": {
    "name": "ipython",
    "version": 3
   },
   "file_extension": ".py",
   "mimetype": "text/x-python",
   "name": "python",
   "nbconvert_exporter": "python",
   "pygments_lexer": "ipython3",
   "version": "3.9.0"
  },
  "orig_nbformat": 4,
  "kernelspec": {
   "name": "python3",
   "display_name": "Python 3.9.0 64-bit"
  },
  "interpreter": {
   "hash": "322e5b4af970d614be014a88b1853ca1fd99b2f4bc97f4da6e5824f5dbf2a6b7"
  }
 },
 "nbformat": 4,
 "nbformat_minor": 2,
 "cells": [
  {
   "cell_type": "code",
   "execution_count": 2,
   "metadata": {},
   "outputs": [],
   "source": [
    "import time\n",
    "from selenium import webdriver as wd\n",
    "from selenium.webdriver.common.keys import Keys # this is for keys such as enter \n",
    "import pandas as pd"
   ]
  },
  {
   "source": [
    "<h1>This will print first block only "
   ],
   "cell_type": "markdown",
   "metadata": {}
  },
  {
   "cell_type": "code",
   "execution_count": 44,
   "metadata": {},
   "outputs": [
    {
     "output_type": "stream",
     "name": "stdout",
     "text": [
      "Unavailable\nSelena Gomez\nLose You To Love Me (Demo Version)\nPosted 9 months ago\n9 months ago\n3,957\n166\nShare\nMore\n130,383 plays\n130K\nView all comments\n196\n"
     ]
    }
   ],
   "source": [
    "driver = wd.Chrome(executable_path='C:/Users/anany/.wdm/drivers/chromedriver/win32/91.0.4472.101/chromedriver.exe')\n",
    "\n",
    "#go to the site\n",
    "\n",
    "driver.get(\"https://soundcloud.com/\")\n",
    "\n",
    "driver.implicitly_wait(2)\n",
    "\n",
    "# accept all cookies\n",
    "\n",
    "accept_cookies=driver.find_element_by_css_selector(\"#onetrust-accept-btn-handler\").click()\n",
    "\n",
    "# give time for thr site to load\n",
    "\n",
    "driver.implicitly_wait(3)\n",
    "\n",
    "# locate the searchbox and and enter the artist \n",
    "\n",
    "search_box=driver.find_element_by_css_selector(\"#content > div > div > div.l-front-content > div > div.frontContent__actions > span > span > form > input\")\n",
    "\n",
    "search_box.click()\n",
    "\n",
    "search_box.send_keys(\"Selena Gomez\", Keys.ENTER)\n",
    "\n",
    "# click on the artist \n",
    "\n",
    "artist=driver.find_element_by_css_selector(\"#content > div > div > div.l-main > div > div > div > ul > li:nth-child(2) > div > div > div > h2 > a\").click()\n",
    "\n",
    "\n",
    "\n",
    "\n",
    "for i in driver.find_elements_by_css_selector(\"#content > div > div.l-fluid-fixed > div.l-main.l-user-main.sc-border-light-right > div > div.userMain__content > div > div.userStream__list > ul > li:nth-child(1) > div > div\"):\n",
    "    print(i.text)\n",
    "\n",
    "#will print first block only \n",
    "\n",
    "\n"
   ]
  },
  {
   "source": [
    "<h1>This will print all blocks without scrolling to the last "
   ],
   "cell_type": "markdown",
   "metadata": {}
  },
  {
   "cell_type": "code",
   "execution_count": 45,
   "metadata": {},
   "outputs": [
    {
     "output_type": "stream",
     "name": "stdout",
     "text": [
      "Unavailable\nSelena Gomez\nLose You To Love Me (Demo Version)\nPosted 9 months ago\n9 months ago\n3,957\n166\nShare\nMore\n130,383 plays\n130K\nView all comments\n196\nUnavailable\nSelena Gomez\nRare (Live From The Village Studio)\nPosted 1 year ago\n1 year ago\n2,247\n149\nShare\nMore\n77,587 plays\n77.5K\nView all comments\n90\nUnavailable\nSelena Gomez\nRare (Alexander 23 Edit)\nPosted 1 year ago\n1 year ago\n937\n53\nShare\nMore\n46,016 plays\n46K\nView all comments\n28\n"
     ]
    }
   ],
   "source": [
    "for a in driver.find_elements_by_css_selector(\"#content > div > div.l-fluid-fixed > div.l-main.l-user-main.sc-border-light-right > div > div.userMain__content > div > div.userStream__list > ul\"):\n",
    "    print(a.text)\n",
    "#will print all blocks without scrolling to the last "
   ]
  },
  {
   "source": [
    "<h1>This will print all blocks after scrolling to the last "
   ],
   "cell_type": "markdown",
   "metadata": {}
  },
  {
   "cell_type": "code",
   "execution_count": 6,
   "metadata": {
    "tags": [
     "outputPrepend"
    ]
   },
   "outputs": [
    {
     "output_type": "stream",
     "name": "stdout",
     "text": [
      "s\\nPosted 3 years ago\\n3 years ago\\n164K\\n7,137\\nShare\\nMore\\n11,825,894 plays\\n11.8M\\nView all comments\\n4,583\\nPlay\\nGalantis Selena Gomez\\nSelena Gomez - Fetish feat. Gucci Mane (Galantis Remix)\\nReposted 3 years ago\\n3 years ago\\n86.9K\\n5,141\\nShare\\nMore\\n4,709,769 plays\\n4.7M\\nView all comments\\n504\\nUnavailable\\nCASHMERE CAT Selena Gomez\\nTrust Nobody (feat. Selena Gomez & Tory Lanez)\\nReposted 4 years ago\\n4 years ago\\n83.1K\\n13.5K\\nShare\\nMore\\n4,125,752 plays\\n4.12M\\nView all comments\\n731\\nUnavailable\\nSelena Gomez\\nKill Em With Kindness (Remixes) EP · 2016\\nPosted 5 years ago\\n5 years ago\\n1\\nKill Em With Kindness (Felix Cartal Remix)\\nNot available in India\\n2\\nKill Em With Kindness (Young Bombs Remix)\\nNot available in India\\n3\\nKill Em With Kindness (River Tiber Remix)\\nNot available in India\\n1,899\\n236\\nShare\\nUnavailable\\nSelena Gomez\\nKill Em With Kindness (Felix Cartal Remix)\\nPosted 5 years ago\\n5 years ago\\n16.3K\\n1,815\\nShare\\nMore\\n969,047 plays\\n969K\\nView all comments\\n151\\nUnavailable\\nSelena Gomez\\nKill Em With Kindness (Young Bombs Remix)\\nPosted 5 years ago\\n5 years ago\\n5,515\\n596\\nShare\\nMore\\n347,177 plays\\n347K\\nView all comments\\n50\\nUnavailable\\nSelena Gomez\\nKill Em With Kindness (River Tiber Remix)\\nPosted 5 years ago\\n5 years ago\\n2,904\\n406\\nShare\\nMore\\n169,648 plays\\n169K\\nView all comments\\n19\\nUnavailable\\nSelena Gomez\\nHands To Myself (Remixes) EP · 2016\\nPosted 5 years ago\\n5 years ago\\n1\\nHands To Myself (Betablock3r Remix)\\nNot available in India\\n2\\nHands To Myself (Fareoh Remix)\\nNot available in India\\n3\\nHands To Myself (KANDY Remix)\\nNot available in India\\n2,175\\n270\\nShare\\nBuy Now!\\nUnavailable\\nSelena Gomez\\nRevival Album · 2015\\nPosted 5 years ago\\n5 years ago\\n1\\nRevival\\nNot available in India\\n2\\nKill Em With Kindness\\nNot available in India\\n3\\nHands To Myself\\nNot available in India\\n4\\nSame Old Love\\nNot available in India\\n5\\nSober\\nNot available in India\\nView 14 tracks\\n4,190\\n505\\nShare\\nBUY NOW!']\n"
     ]
    }
   ],
   "source": [
    "driver = wd.Chrome(executable_path='C:/Users/anany/.wdm/drivers/chromedriver/win32/91.0.4472.101/chromedriver.exe')\n",
    "\n",
    "driver.get(\"https://soundcloud.com/\")\n",
    "\n",
    "driver.implicitly_wait(2)\n",
    "\n",
    "# accept all cookies\n",
    "\n",
    "accept_cookies=driver.find_element_by_css_selector(\"#onetrust-accept-btn-handler\").click()\n",
    "\n",
    "# give time for thr site to load\n",
    "\n",
    "driver.implicitly_wait(3)\n",
    "\n",
    "# locate the searchbox and and enter the artist \n",
    "\n",
    "search_box=driver.find_element_by_css_selector(\"#content > div > div > div.l-front-content > div > div.frontContent__actions > span > span > form > input\")\n",
    "\n",
    "search_box.click()\n",
    "\n",
    "search_box.send_keys(\"Selena Gomez\", Keys.ENTER)\n",
    "\n",
    "# click on the artist \n",
    "\n",
    "artist=driver.find_element_by_css_selector(\"#content > div > div > div.l-main > div > div > div > ul > li:nth-child(2) > div > div > div > h2 > a\").click()\n",
    "\n",
    "#scroll to the bottom so everything is loaded\n",
    "\n",
    "driver.execute_script(\"window.scrollTo(0,document.body.scrollHeight)\")\n",
    "\n",
    "time.sleep(10)\n",
    "\n",
    "songs=[]\n",
    "\n",
    "\n",
    "for a in driver.find_elements_by_css_selector(\"#content > div > div.l-fluid-fixed > div.l-main.l-user-main.sc-border-light-right > div > div.userMain__content > div > div.userStream__list > ul\"):\n",
    "        songs.append(a.text)\n",
    "\n",
    "print(songs)    \n",
    "\n",
    "# an array can be converted into a pandas dataframe\n",
    "\n",
    "dataframe_songsalldetalis = pd.DataFrame(songs)\n",
    "  \n",
    "# the dataframe is then converted into a csv file\n",
    "\n",
    "dataframe_songsalldetalis.to_csv(\"songsalldetails.csv\")"
   ]
  },
  {
   "source": [
    "<h1>This code will print the names of top tracks of an artist"
   ],
   "cell_type": "markdown",
   "metadata": {}
  },
  {
   "cell_type": "code",
   "execution_count": 3,
   "metadata": {},
   "outputs": [
    {
     "output_type": "stream",
     "name": "stdout",
     "text": [
      "Lose You To Love Me (Demo Version)\n",
      "Rare (Live From The Village Studio)\n",
      "Rare (Alexander 23 Edit)\n",
      "Back To You (Riton & Kah-Lo Remix)\n",
      "Wolves (MOTi Remix)\n",
      "Wolves (Sneek Remix)\n",
      "Wolves (Rusko Remix)\n",
      "Wolves (Owen Norton Remix)\n",
      "Wolves (Total Ape Remix)\n",
      "Wolves\n"
     ]
    }
   ],
   "source": [
    "# this code will print the names of top tracks of an artist\n",
    "\n",
    "driver = wd.Chrome(executable_path='C:/Users/anany/.wdm/drivers/chromedriver/win32/91.0.4472.101/chromedriver.exe')\n",
    "\n",
    "driver.get(\"https://soundcloud.com/\")\n",
    "\n",
    "driver.implicitly_wait(2)\n",
    "\n",
    "# accept all cookies\n",
    "\n",
    "accept_cookies=driver.find_element_by_css_selector(\"#onetrust-accept-btn-handler\").click()\n",
    "\n",
    "# give time for thr site to load\n",
    "\n",
    "driver.implicitly_wait(3)\n",
    "\n",
    "# locate the searchbox and and enter the artist \n",
    "\n",
    "search_box=driver.find_element_by_css_selector(\"#content > div > div > div.l-front-content > div > div.frontContent__actions > span > span > form > input\")\n",
    "\n",
    "search_box.click()\n",
    "\n",
    "search_box.send_keys(\"Selena Gomez\", Keys.ENTER)\n",
    "\n",
    "# click on the artist \n",
    "\n",
    "artist=driver.find_element_by_css_selector(\"#content > div > div > div.l-main > div > div > div > ul > li:nth-child(2) > div > div > div > h2 > a\").click()\n",
    "\n",
    "#click on tracks\n",
    "artist=driver.find_element_by_css_selector(\"#content > div > div.l-vertical-bar > div > div.userInfoBar__tabs > ul > li:nth-child(3) > a\").click()\n",
    "\n",
    "#scroll to the bottom so everything is loaded\n",
    "\n",
    "driver.execute_script(\"window.scrollTo(0,document.body.scrollHeight)\")\n",
    "\n",
    "time.sleep(10)\n",
    "\n",
    "songs_onlyname=[]\n",
    "\n",
    "for x in driver.find_elements_by_css_selector(\"[class='soundTitle__title sc-link-dark sc-link-primary']\"):\n",
    "        songs_onlyname.append(x.text)       \n",
    "        print(x.text) "
   ]
  },
  {
   "cell_type": "code",
   "execution_count": null,
   "metadata": {},
   "outputs": [],
   "source": []
  },
  {
   "cell_type": "code",
   "execution_count": 6,
   "metadata": {
    "tags": []
   },
   "outputs": [],
   "source": [
    "#converting dataframe to csv file\n",
    "songs_onlyname = pd.DataFrame(songs_onlyname)\n",
    "\n",
    "songs_onlyname.to_csv(\"songs_onlyname.csv\")\n",
    "\n"
   ]
  }
 ]
}